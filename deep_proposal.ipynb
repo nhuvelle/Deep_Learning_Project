{
 "cells": [
  {
   "cell_type": "markdown",
   "id": "f1dca966",
   "metadata": {},
   "source": [
    "# Project Proposal\n",
    "\n",
    "For this project I plan to build an image classificaiton model that classifies chest x-ray images as having pneumonia, covid, tuberculosis, or none. I will be using a dataset from Kaggle.com that contains 7135 images. My primary model will probably use CNN and transfer learning techniques. "
   ]
  }
 ],
 "metadata": {
  "kernelspec": {
   "display_name": "Python 3",
   "language": "python",
   "name": "python3"
  },
  "language_info": {
   "codemirror_mode": {
    "name": "ipython",
    "version": 3
   },
   "file_extension": ".py",
   "mimetype": "text/x-python",
   "name": "python",
   "nbconvert_exporter": "python",
   "pygments_lexer": "ipython3",
   "version": "3.8.8"
  }
 },
 "nbformat": 4,
 "nbformat_minor": 5
}
