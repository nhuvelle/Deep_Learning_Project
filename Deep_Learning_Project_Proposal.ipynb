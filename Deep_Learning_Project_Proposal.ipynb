{
 "cells": [
  {
   "cell_type": "markdown",
   "id": "bc99e0d8",
   "metadata": {},
   "source": [
    "# Project Proposal"
   ]
  },
  {
   "cell_type": "markdown",
   "id": "9ff5fa36",
   "metadata": {},
   "source": [
    "For my project I will be doing addressing a classification problem of categorizing images of ships as military, carrier, cruise, cargo, yacht, or other. Building a useful model for this problem could potentially help with supply chain issues in the Sea or identifying enemy military ships from a distance. The dataset is from Kaggle.com. A CNN model seems appropriate, and a MVP would be a model that works reasonably well. "
   ]
  }
 ],
 "metadata": {
  "kernelspec": {
   "display_name": "Python 3",
   "language": "python",
   "name": "python3"
  },
  "language_info": {
   "codemirror_mode": {
    "name": "ipython",
    "version": 3
   },
   "file_extension": ".py",
   "mimetype": "text/x-python",
   "name": "python",
   "nbconvert_exporter": "python",
   "pygments_lexer": "ipython3",
   "version": "3.8.8"
  }
 },
 "nbformat": 4,
 "nbformat_minor": 5
}
