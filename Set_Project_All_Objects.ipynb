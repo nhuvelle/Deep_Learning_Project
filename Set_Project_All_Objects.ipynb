{
 "cells": [
  {
   "cell_type": "code",
   "execution_count": 1,
   "id": "e43f1a21",
   "metadata": {},
   "outputs": [],
   "source": [
    "import matplotlib.pyplot as plt\n",
    "%matplotlib inline\n",
    "\n",
    "import pandas as pd\n",
    "import seaborn as sns\n",
    "import sklearn"
   ]
  },
  {
   "cell_type": "code",
   "execution_count": 2,
   "id": "bb77f7eb",
   "metadata": {
    "scrolled": true
   },
   "outputs": [],
   "source": [
    "import tensorflow as tf\n",
    "import keras\n",
    "from keras.models import Sequential\n",
    "from keras.layers import Dense, Dropout, Conv2D, MaxPooling2D, Flatten, GlobalAveragePooling2D, InputLayer\n"
   ]
  },
  {
   "cell_type": "markdown",
   "id": "8d832a3d",
   "metadata": {},
   "source": [
    "# Training shapes, accuracy = 99%"
   ]
  },
  {
   "cell_type": "code",
   "execution_count": 3,
   "id": "3ea649a8",
   "metadata": {},
   "outputs": [
    {
     "name": "stdout",
     "output_type": "stream",
     "text": [
      "Found 13149 files belonging to 3 classes.\n"
     ]
    }
   ],
   "source": [
    "training_generator = tf.keras.preprocessing.image_dataset_from_directory('A_Set_Data/set_shape',\n",
    "    labels=\"inferred\",\n",
    "    label_mode=\"categorical\",\n",
    "    class_names=None,\n",
    "    color_mode=\"rgb\",\n",
    "    batch_size=32,\n",
    "    image_size=(256, 256),\n",
    "    shuffle=True,\n",
    "                                                                         \n",
    ")"
   ]
  },
  {
   "cell_type": "code",
   "execution_count": null,
   "id": "68824e50",
   "metadata": {},
   "outputs": [],
   "source": []
  },
  {
   "cell_type": "code",
   "execution_count": null,
   "id": "10ddcd7d",
   "metadata": {
    "scrolled": true
   },
   "outputs": [],
   "source": []
  },
  {
   "cell_type": "code",
   "execution_count": 4,
   "id": "2bbb4048",
   "metadata": {
    "scrolled": true
   },
   "outputs": [
    {
     "name": "stdout",
     "output_type": "stream",
     "text": [
      "Model: \"sequential\"\n",
      "_________________________________________________________________\n",
      "Layer (type)                 Output Shape              Param #   \n",
      "=================================================================\n",
      "conv2d (Conv2D)              (None, 256, 256, 10)      280       \n",
      "_________________________________________________________________\n",
      "max_pooling2d (MaxPooling2D) (None, 128, 128, 10)      0         \n",
      "_________________________________________________________________\n",
      "conv2d_1 (Conv2D)            (None, 128, 128, 20)      1820      \n",
      "_________________________________________________________________\n",
      "max_pooling2d_1 (MaxPooling2 (None, 64, 64, 20)        0         \n",
      "_________________________________________________________________\n",
      "conv2d_2 (Conv2D)            (None, 64, 64, 30)        5430      \n",
      "_________________________________________________________________\n",
      "flatten (Flatten)            (None, 122880)            0         \n",
      "_________________________________________________________________\n",
      "dense (Dense)                (None, 128)               15728768  \n",
      "_________________________________________________________________\n",
      "dropout (Dropout)            (None, 128)               0         \n",
      "_________________________________________________________________\n",
      "dense_1 (Dense)              (None, 64)                8256      \n",
      "_________________________________________________________________\n",
      "dropout_1 (Dropout)          (None, 64)                0         \n",
      "_________________________________________________________________\n",
      "dense_2 (Dense)              (None, 3)                 195       \n",
      "=================================================================\n",
      "Total params: 15,744,749\n",
      "Trainable params: 15,744,749\n",
      "Non-trainable params: 0\n",
      "_________________________________________________________________\n",
      "Epoch 1/3\n",
      "411/411 [==============================] - 175s 423ms/step - loss: 10.7096 - accuracy: 0.9385\n",
      "Epoch 2/3\n",
      "411/411 [==============================] - 173s 420ms/step - loss: 0.0425 - accuracy: 0.9911\n",
      "Epoch 3/3\n",
      "411/411 [==============================] - 171s 416ms/step - loss: 0.0031 - accuracy: 0.9996\n"
     ]
    },
    {
     "data": {
      "text/plain": [
       "<keras.callbacks.History at 0x7fd9aab7ee80>"
      ]
     },
     "execution_count": 4,
     "metadata": {},
     "output_type": "execute_result"
    }
   ],
   "source": [
    "CNN_shapes = Sequential()\n",
    "\n",
    "CNN_shapes.add(InputLayer(input_shape= (256,256,3)))\n",
    "\n",
    "\n",
    "CNN_shapes.add(Conv2D(filters=10, kernel_size=3, activation='relu', padding='same'))\n",
    "CNN_shapes.add(MaxPooling2D())\n",
    "\n",
    "\n",
    "CNN_shapes.add(Conv2D(filters=20, kernel_size=3, activation='relu', padding='same'))\n",
    "CNN_shapes.add(MaxPooling2D())\n",
    "\n",
    "\n",
    "CNN_shapes.add(Conv2D(filters=30, kernel_size=3, activation='relu', padding='same'))\n",
    "\n",
    "#CNN_shapes.add(GlobalAveragePooling2D())\n",
    "\n",
    "CNN_shapes.add(Flatten())   #Flatten worked best for all but number of shapes\n",
    "CNN_shapes.add(Dense(128, activation='relu'))\n",
    "CNN_shapes.add(Dropout(.25))\n",
    "CNN_shapes.add(Dense(64, activation='relu'))\n",
    "CNN_shapes.add(Dropout(.15))\n",
    "CNN_shapes.add(Dense(3, activation='softmax'))  \n",
    "\n",
    "CNN_shapes.compile(\n",
    "    loss='categorical_crossentropy',\n",
    "    optimizer='adam',\n",
    "    metrics=['accuracy'],\n",
    ")\n",
    "CNN_shapes.summary()\n",
    "CNN_shapes.fit(training_generator, epochs = 3)\n",
    "    \n",
    "    \n",
    "    \n",
    " "
   ]
  },
  {
   "cell_type": "code",
   "execution_count": null,
   "id": "80f879b5",
   "metadata": {},
   "outputs": [],
   "source": [
    "shapes_history = CNN_shapes.fit(training_generator, epochs = 3)\n"
   ]
  },
  {
   "cell_type": "markdown",
   "id": "b006dab8",
   "metadata": {},
   "source": [
    "# Training number, accuracy = 96%"
   ]
  },
  {
   "cell_type": "code",
   "execution_count": 25,
   "id": "6720573b",
   "metadata": {},
   "outputs": [
    {
     "name": "stdout",
     "output_type": "stream",
     "text": [
      "Found 13131 files belonging to 3 classes.\n"
     ]
    }
   ],
   "source": [
    "training_generator = tf.keras.preprocessing.image_dataset_from_directory('A_Set_Data/set_number',\n",
    "    labels=\"inferred\",\n",
    "    label_mode=\"categorical\",\n",
    "    class_names=None,\n",
    "    color_mode=\"rgb\",\n",
    "    batch_size=32,\n",
    "    image_size=(256, 256),\n",
    "    shuffle=True,\n",
    "                                                                         \n",
    ")"
   ]
  },
  {
   "cell_type": "code",
   "execution_count": 26,
   "id": "56e1393d",
   "metadata": {
    "scrolled": true
   },
   "outputs": [
    {
     "name": "stdout",
     "output_type": "stream",
     "text": [
      "Model: \"sequential_7\"\n",
      "_________________________________________________________________\n",
      "Layer (type)                 Output Shape              Param #   \n",
      "=================================================================\n",
      "conv2d_21 (Conv2D)           (None, 256, 256, 10)      280       \n",
      "_________________________________________________________________\n",
      "max_pooling2d_14 (MaxPooling (None, 128, 128, 10)      0         \n",
      "_________________________________________________________________\n",
      "conv2d_22 (Conv2D)           (None, 128, 128, 20)      1820      \n",
      "_________________________________________________________________\n",
      "max_pooling2d_15 (MaxPooling (None, 64, 64, 20)        0         \n",
      "_________________________________________________________________\n",
      "conv2d_23 (Conv2D)           (None, 64, 64, 30)        5430      \n",
      "_________________________________________________________________\n",
      "global_average_pooling2d_3 ( (None, 30)                0         \n",
      "_________________________________________________________________\n",
      "dense_21 (Dense)             (None, 128)               3968      \n",
      "_________________________________________________________________\n",
      "dropout_14 (Dropout)         (None, 128)               0         \n",
      "_________________________________________________________________\n",
      "dense_22 (Dense)             (None, 56)                7224      \n",
      "_________________________________________________________________\n",
      "dropout_15 (Dropout)         (None, 56)                0         \n",
      "_________________________________________________________________\n",
      "dense_23 (Dense)             (None, 3)                 171       \n",
      "=================================================================\n",
      "Total params: 18,893\n",
      "Trainable params: 18,893\n",
      "Non-trainable params: 0\n",
      "_________________________________________________________________\n",
      "Epoch 1/4\n",
      "411/411 [==============================] - 164s 398ms/step - loss: 0.9534 - accuracy: 0.6304\n",
      "Epoch 2/4\n",
      "411/411 [==============================] - 160s 389ms/step - loss: 0.2045 - accuracy: 0.9349\n",
      "Epoch 3/4\n",
      "411/411 [==============================] - 150s 365ms/step - loss: 0.0714 - accuracy: 0.9791\n",
      "Epoch 4/4\n",
      "411/411 [==============================] - 151s 367ms/step - loss: 0.0619 - accuracy: 0.9805\n"
     ]
    },
    {
     "data": {
      "text/plain": [
       "<keras.callbacks.History at 0x7fd8e810ceb0>"
      ]
     },
     "execution_count": 26,
     "metadata": {},
     "output_type": "execute_result"
    }
   ],
   "source": [
    "CNN_number = Sequential()\n",
    "\n",
    "CNN_number.add(InputLayer(input_shape= (256,256,3)))\n",
    "\n",
    "\n",
    "CNN_number.add(Conv2D(filters=10, kernel_size=3, activation='relu', padding='same'))\n",
    "CNN_number.add(MaxPooling2D())\n",
    "\n",
    "\n",
    "CNN_number.add(Conv2D(filters=20, kernel_size=3, activation='relu', padding='same'))\n",
    "CNN_number.add(MaxPooling2D())\n",
    "\n",
    "\n",
    "CNN_number.add(Conv2D(filters=30, kernel_size=3, activation='relu', padding='same'))\n",
    "\n",
    "CNN_number.add(GlobalAveragePooling2D())  #GlobalAverage made a big difference for number\n",
    "\n",
    "#CNN_number.add(Flatten())\n",
    "CNN_number.add(Dense(128, activation='relu'))\n",
    "CNN_number.add(Dropout(.25))\n",
    "CNN_number.add(Dense(56, activation='relu'))\n",
    "CNN_number.add(Dropout(.16))\n",
    "CNN_number.add(Dense(3, activation='softmax'))  \n",
    "\n",
    "CNN_number.compile(\n",
    "    loss='categorical_crossentropy',\n",
    "    optimizer='adam',\n",
    "    metrics=['accuracy'],\n",
    ")\n",
    "CNN_number.summary()\n",
    "CNN_number.fit(training_generator, epochs = 4)"
   ]
  },
  {
   "cell_type": "code",
   "execution_count": 30,
   "id": "446048b5",
   "metadata": {},
   "outputs": [],
   "source": [
    "from keras.applications import mobilenet_v2\n",
    "from keras.preprocessing import image\n",
    "\n",
    "\n",
    "def prepare_image(img_path):\n",
    "\n",
    "    img = image.load_img(img_path, target_size=(256, 256))\n",
    "    x = image.img_to_array(img)\n",
    "    x = np.expand_dims(x, axis=0)\n",
    "    x = mobilenet_v2.preprocess_input(x)\n",
    "    return x"
   ]
  },
  {
   "cell_type": "code",
   "execution_count": 68,
   "id": "033969db",
   "metadata": {},
   "outputs": [],
   "source": [
    "# Hmm, notebook seems way ot of order. Go back and clean it up Nathan!!\n",
    "\n",
    "#import numpy as np\n",
    "#x = prepare_image('A_Set_Data/test_set_number/three/DSC_5099_0_6.jpg')\n",
    "\n",
    "#out = CNN_number.predict(x)\n",
    "#print('Predicted:', mobilenet_v2.decode_predictions(out))"
   ]
  },
  {
   "cell_type": "code",
   "execution_count": 36,
   "id": "2c941686",
   "metadata": {},
   "outputs": [
    {
     "name": "stdout",
     "output_type": "stream",
     "text": [
      "[[0.3212677  0.27859175 0.40014055]]\n"
     ]
    }
   ],
   "source": [
    "x = prepare_image('A_Set_Data/set_number/one/1_red/1-red-solid-oval/DSC_5110_1_25.jpg')\n",
    "\n",
    "out = CNN_number.predict(x)\n",
    "print(out)  # this doesn't make sense "
   ]
  },
  {
   "cell_type": "code",
   "execution_count": null,
   "id": "a48316cb",
   "metadata": {},
   "outputs": [],
   "source": []
  },
  {
   "cell_type": "code",
   "execution_count": 21,
   "id": "32a7258e",
   "metadata": {},
   "outputs": [
    {
     "name": "stdout",
     "output_type": "stream",
     "text": [
      "Found 12 files belonging to 3 classes.\n"
     ]
    }
   ],
   "source": [
    "testing_generator = tf.keras.preprocessing.image_dataset_from_directory('A_Set_Data/test_set_number',\n",
    "    labels=\"inferred\",\n",
    "    label_mode=\"categorical\",\n",
    "    class_names=None,\n",
    "    color_mode=\"rgb\",\n",
    "    batch_size=1,\n",
    "    image_size=(256, 256),\n",
    "    shuffle=True,\n",
    "                                                                         \n",
    ")"
   ]
  },
  {
   "cell_type": "code",
   "execution_count": 69,
   "id": "9cb6029e",
   "metadata": {},
   "outputs": [
    {
     "name": "stdout",
     "output_type": "stream",
     "text": [
      "12/12 [==============================] - 0s 6ms/step - loss: 0.0296 - accuracy: 1.0000\n"
     ]
    },
    {
     "data": {
      "text/plain": [
       "[0.029556840658187866, 1.0]"
      ]
     },
     "execution_count": 69,
     "metadata": {},
     "output_type": "execute_result"
    }
   ],
   "source": [
    "#testing 12 images not included in training. Easy 100% :)\n",
    "CNN_number.evaluate(testing_generator)"
   ]
  },
  {
   "cell_type": "markdown",
   "id": "b4635e0d",
   "metadata": {},
   "source": [
    "# Training color, accuracy = 99%"
   ]
  },
  {
   "cell_type": "code",
   "execution_count": 8,
   "id": "7eda75c4",
   "metadata": {},
   "outputs": [
    {
     "name": "stdout",
     "output_type": "stream",
     "text": [
      "Found 13149 files belonging to 3 classes.\n"
     ]
    }
   ],
   "source": [
    "training_generator = tf.keras.preprocessing.image_dataset_from_directory('A_Set_Data/set_color',\n",
    "    labels=\"inferred\",\n",
    "    label_mode=\"categorical\",\n",
    "    class_names=None,\n",
    "    color_mode=\"rgb\",\n",
    "    batch_size=32,\n",
    "    image_size=(256, 256),\n",
    "    shuffle=True,\n",
    "                                                                         \n",
    ")"
   ]
  },
  {
   "cell_type": "code",
   "execution_count": 9,
   "id": "0b89c7c9",
   "metadata": {},
   "outputs": [
    {
     "name": "stdout",
     "output_type": "stream",
     "text": [
      "Model: \"sequential_3\"\n",
      "_________________________________________________________________\n",
      "Layer (type)                 Output Shape              Param #   \n",
      "=================================================================\n",
      "conv2d_9 (Conv2D)            (None, 256, 256, 10)      280       \n",
      "_________________________________________________________________\n",
      "max_pooling2d_6 (MaxPooling2 (None, 128, 128, 10)      0         \n",
      "_________________________________________________________________\n",
      "conv2d_10 (Conv2D)           (None, 128, 128, 20)      1820      \n",
      "_________________________________________________________________\n",
      "max_pooling2d_7 (MaxPooling2 (None, 64, 64, 20)        0         \n",
      "_________________________________________________________________\n",
      "conv2d_11 (Conv2D)           (None, 64, 64, 30)        5430      \n",
      "_________________________________________________________________\n",
      "global_average_pooling2d_1 ( (None, 30)                0         \n",
      "_________________________________________________________________\n",
      "dense_9 (Dense)              (None, 256)               7936      \n",
      "_________________________________________________________________\n",
      "dropout_6 (Dropout)          (None, 256)               0         \n",
      "_________________________________________________________________\n",
      "dense_10 (Dense)             (None, 128)               32896     \n",
      "_________________________________________________________________\n",
      "dropout_7 (Dropout)          (None, 128)               0         \n",
      "_________________________________________________________________\n",
      "dense_11 (Dense)             (None, 3)                 387       \n",
      "=================================================================\n",
      "Total params: 48,749\n",
      "Trainable params: 48,749\n",
      "Non-trainable params: 0\n",
      "_________________________________________________________________\n",
      "Epoch 1/3\n",
      "411/411 [==============================] - 151s 365ms/step - loss: 0.2975 - accuracy: 0.9019\n",
      "Epoch 2/3\n",
      "411/411 [==============================] - 145s 354ms/step - loss: 0.0283 - accuracy: 0.9913\n",
      "Epoch 3/3\n",
      "411/411 [==============================] - 148s 360ms/step - loss: 0.0219 - accuracy: 0.9934\n"
     ]
    },
    {
     "data": {
      "text/plain": [
       "<keras.callbacks.History at 0x7fd947ed68b0>"
      ]
     },
     "execution_count": 9,
     "metadata": {},
     "output_type": "execute_result"
    }
   ],
   "source": [
    "CNN_color = Sequential()\n",
    "\n",
    "CNN_color.add(InputLayer(input_shape= (256,256,3)))\n",
    "\n",
    "\n",
    "CNN_color.add(Conv2D(filters=10, kernel_size=3, activation='relu', padding='same'))\n",
    "CNN_color.add(MaxPooling2D())\n",
    "\n",
    "\n",
    "CNN_color.add(Conv2D(filters=20, kernel_size=3, activation='relu', padding='same'))\n",
    "CNN_color.add(MaxPooling2D())\n",
    "\n",
    "\n",
    "CNN_color.add(Conv2D(filters=30, kernel_size=3, activation='relu', padding='same'))\n",
    "\n",
    "CNN_color.add(GlobalAveragePooling2D())\n",
    "\n",
    "\n",
    "CNN_color.add(Dense(256, activation='relu'))\n",
    "CNN_color.add(Dropout(.28))\n",
    "CNN_color.add(Dense(128, activation='relu'))\n",
    "CNN_color.add(Dropout(.14))\n",
    "CNN_color.add(Dense(3, activation='softmax'))  \n",
    "\n",
    "CNN_color.compile(\n",
    "    loss='categorical_crossentropy',\n",
    "    optimizer='adam',\n",
    "    metrics=['accuracy'],\n",
    ")\n",
    "CNN_color.summary()\n",
    "CNN_color.fit(training_generator, epochs = 3)"
   ]
  },
  {
   "cell_type": "code",
   "execution_count": 19,
   "id": "fb6d27e0",
   "metadata": {},
   "outputs": [
    {
     "name": "stdout",
     "output_type": "stream",
     "text": [
      "Found 12 files belonging to 3 classes.\n"
     ]
    }
   ],
   "source": [
    "testing_generator = tf.keras.preprocessing.image_dataset_from_directory('A_Set_Data/test_set_color',\n",
    "    labels=\"inferred\",\n",
    "    label_mode=\"categorical\",\n",
    "    class_names=None,\n",
    "    color_mode=\"rgb\",\n",
    "    batch_size=1,\n",
    "    image_size=(256, 256),\n",
    "    shuffle=True,\n",
    "                                                                         \n",
    ")"
   ]
  },
  {
   "cell_type": "code",
   "execution_count": 20,
   "id": "660c530b",
   "metadata": {},
   "outputs": [
    {
     "name": "stdout",
     "output_type": "stream",
     "text": [
      "12/12 [==============================] - 0s 5ms/step - loss: 6.6855e-06 - accuracy: 1.0000\n"
     ]
    },
    {
     "data": {
      "text/plain": [
       "[6.685453627142124e-06, 1.0]"
      ]
     },
     "execution_count": 20,
     "metadata": {},
     "output_type": "execute_result"
    }
   ],
   "source": [
    "CNN_color.evaluate(testing_generator)"
   ]
  },
  {
   "cell_type": "code",
   "execution_count": null,
   "id": "e6b11d78",
   "metadata": {},
   "outputs": [],
   "source": []
  },
  {
   "cell_type": "code",
   "execution_count": null,
   "id": "0197def9",
   "metadata": {},
   "outputs": [],
   "source": [
    "CNN_confusion_matrix = confusion_matrix()\n",
    "\n",
    "sns.heatmap(model_confusion_matrix, cmap=plt.cm.Blues, annot=True, square=True, fmt='d')"
   ]
  },
  {
   "cell_type": "code",
   "execution_count": null,
   "id": "3895ab5d",
   "metadata": {},
   "outputs": [],
   "source": [
    "from sklearn.model_selection import train_test_split\n",
    "from keras.utils import np_utils"
   ]
  },
  {
   "cell_type": "code",
   "execution_count": null,
   "id": "d363b126",
   "metadata": {},
   "outputs": [],
   "source": [
    "# Training fillings, accuracy = 91%"
   ]
  },
  {
   "cell_type": "code",
   "execution_count": 38,
   "id": "1983d4b6",
   "metadata": {},
   "outputs": [
    {
     "name": "stdout",
     "output_type": "stream",
     "text": [
      "Found 13142 files belonging to 3 classes.\n"
     ]
    }
   ],
   "source": [
    "training_generator = tf.keras.preprocessing.image_dataset_from_directory('A_Set_Data/set_shading',\n",
    "    labels=\"inferred\",\n",
    "    label_mode=\"categorical\",\n",
    "    class_names=None,\n",
    "    color_mode=\"rgb\",\n",
    "    batch_size=32,\n",
    "    image_size=(256, 256),\n",
    "    shuffle=True,\n",
    "                                                                         \n",
    ")"
   ]
  },
  {
   "cell_type": "markdown",
   "id": "4bb40b68",
   "metadata": {},
   "source": [
    "# Some cells are out of order. Definitely need to clean up. "
   ]
  },
  {
   "cell_type": "code",
   "execution_count": null,
   "id": "90028a00",
   "metadata": {},
   "outputs": [],
   "source": []
  },
  {
   "cell_type": "code",
   "execution_count": null,
   "id": "9b781b6a",
   "metadata": {},
   "outputs": [],
   "source": []
  },
  {
   "cell_type": "code",
   "execution_count": null,
   "id": "14d833bb",
   "metadata": {},
   "outputs": [],
   "source": []
  },
  {
   "cell_type": "code",
   "execution_count": 40,
   "id": "0a3e8d72",
   "metadata": {},
   "outputs": [],
   "source": [
    "import numpy as np\n",
    "\n",
    "image_arrays = []\n",
    "image_labels = []\n",
    "predictions = []\n",
    "\n",
    "for images, labels in training_generator:\n",
    "    CNN_shading.predict(images)\n",
    "\n",
    "    image_arrays.append(images)\n",
    "    image_labels.extend(labels)\n",
    "    predictions.extend(np.argmax(CNN_shading.predict(images), axis=1))\n",
    "\n",
    "results_list = [np.argmax(x.numpy()) for x in image_labels]\n",
    "\n",
    "\n",
    "all_images = np.concatenate(image_arrays)\n",
    "    \n"
   ]
  },
  {
   "cell_type": "code",
   "execution_count": 65,
   "id": "950b808b",
   "metadata": {},
   "outputs": [],
   "source": [
    "#results_list"
   ]
  },
  {
   "cell_type": "code",
   "execution_count": 42,
   "id": "0db6cca6",
   "metadata": {},
   "outputs": [
    {
     "data": {
      "text/plain": [
       "<matplotlib.image.AxesImage at 0x7fd997d5e820>"
      ]
     },
     "execution_count": 42,
     "metadata": {},
     "output_type": "execute_result"
    },
    {
     "data": {
      "image/png": "[encoded data removed]",
      "text/plain": [
       "<Figure size 432x288 with 1 Axes>"
      ]
     },
     "metadata": {
      "needs_background": "light"
     },
     "output_type": "display_data"
    }
   ],
   "source": [
    "plt.imshow((all_images[2])/255)"
   ]
  },
  {
   "cell_type": "code",
   "execution_count": 43,
   "id": "3947335b",
   "metadata": {},
   "outputs": [
    {
     "data": {
      "text/plain": [
       "<matplotlib.image.AxesImage at 0x7fd948087370>"
      ]
     },
     "execution_count": 43,
     "metadata": {},
     "output_type": "execute_result"
    },
    {
     "data": {
      "image/png": "[encoded data removed]",
      "text/plain": [
       "<Figure size 432x288 with 1 Axes>"
      ]
     },
     "metadata": {
      "needs_background": "light"
     },
     "output_type": "display_data"
    }
   ],
   "source": [
    "plt.imshow((all_images[0])/255)"
   ]
  },
  {
   "cell_type": "code",
   "execution_count": 44,
   "id": "468da276",
   "metadata": {},
   "outputs": [
    {
     "data": {
      "text/plain": [
       "<matplotlib.image.AxesImage at 0x7fd85823e370>"
      ]
     },
     "execution_count": 44,
     "metadata": {},
     "output_type": "execute_result"
    },
    {
     "data": {
      "image/png": "[encoded data removed]",
      "text/plain": [
       "<Figure size 432x288 with 1 Axes>"
      ]
     },
     "metadata": {
      "needs_background": "light"
     },
     "output_type": "display_data"
    }
   ],
   "source": [
    "plt.imshow((all_images[1])/255)"
   ]
  },
  {
   "cell_type": "code",
   "execution_count": 67,
   "id": "d85eeef1",
   "metadata": {},
   "outputs": [],
   "source": [
    "results['correct?'] = results['labels'] == results['predictions']"
   ]
  },
  {
   "cell_type": "code",
   "execution_count": 61,
   "id": "8fb9af6e",
   "metadata": {},
   "outputs": [],
   "source": [
    "#results[~results['correct?']]"
   ]
  },
  {
   "cell_type": "code",
   "execution_count": 46,
   "id": "484fbc1e",
   "metadata": {},
   "outputs": [
    {
     "data": {
      "text/html": [
       "<div>\n",
       "<style scoped>\n",
       "    .dataframe tbody tr th:only-of-type {\n",
       "        vertical-align: middle;\n",
       "    }\n",
       "\n",
       "    .dataframe tbody tr th {\n",
       "        vertical-align: top;\n",
       "    }\n",
       "\n",
       "    .dataframe thead th {\n",
       "        text-align: right;\n",
       "    }\n",
       "</style>\n",
       "<table border=\"1\" class=\"dataframe\">\n",
       "  <thead>\n",
       "    <tr style=\"text-align: right;\">\n",
       "      <th></th>\n",
       "      <th>labels</th>\n",
       "      <th>predictions</th>\n",
       "    </tr>\n",
       "  </thead>\n",
       "  <tbody>\n",
       "    <tr>\n",
       "      <th>0</th>\n",
       "      <td>1</td>\n",
       "      <td>1</td>\n",
       "    </tr>\n",
       "    <tr>\n",
       "      <th>1</th>\n",
       "      <td>0</td>\n",
       "      <td>0</td>\n",
       "    </tr>\n",
       "    <tr>\n",
       "      <th>2</th>\n",
       "      <td>1</td>\n",
       "      <td>1</td>\n",
       "    </tr>\n",
       "    <tr>\n",
       "      <th>3</th>\n",
       "      <td>2</td>\n",
       "      <td>2</td>\n",
       "    </tr>\n",
       "    <tr>\n",
       "      <th>4</th>\n",
       "      <td>2</td>\n",
       "      <td>2</td>\n",
       "    </tr>\n",
       "    <tr>\n",
       "      <th>...</th>\n",
       "      <td>...</td>\n",
       "      <td>...</td>\n",
       "    </tr>\n",
       "    <tr>\n",
       "      <th>13137</th>\n",
       "      <td>1</td>\n",
       "      <td>1</td>\n",
       "    </tr>\n",
       "    <tr>\n",
       "      <th>13138</th>\n",
       "      <td>0</td>\n",
       "      <td>0</td>\n",
       "    </tr>\n",
       "    <tr>\n",
       "      <th>13139</th>\n",
       "      <td>0</td>\n",
       "      <td>2</td>\n",
       "    </tr>\n",
       "    <tr>\n",
       "      <th>13140</th>\n",
       "      <td>0</td>\n",
       "      <td>2</td>\n",
       "    </tr>\n",
       "    <tr>\n",
       "      <th>13141</th>\n",
       "      <td>0</td>\n",
       "      <td>0</td>\n",
       "    </tr>\n",
       "  </tbody>\n",
       "</table>\n",
       "<p>13142 rows × 2 columns</p>\n",
       "</div>"
      ],
      "text/plain": [
       "       labels  predictions\n",
       "0           1            1\n",
       "1           0            0\n",
       "2           1            1\n",
       "3           2            2\n",
       "4           2            2\n",
       "...       ...          ...\n",
       "13137       1            1\n",
       "13138       0            0\n",
       "13139       0            2\n",
       "13140       0            2\n",
       "13141       0            0\n",
       "\n",
       "[13142 rows x 2 columns]"
      ]
     },
     "execution_count": 46,
     "metadata": {},
     "output_type": "execute_result"
    }
   ],
   "source": [
    "image_dict = {'labels': results_list, 'predictions': predictions}\n",
    "\n",
    "results = pd.DataFrame(image_dict)\n",
    "results"
   ]
  },
  {
   "cell_type": "code",
   "execution_count": null,
   "id": "a675c3b2",
   "metadata": {},
   "outputs": [],
   "source": []
  },
  {
   "cell_type": "code",
   "execution_count": 49,
   "id": "965902f7",
   "metadata": {},
   "outputs": [
    {
     "data": {
      "text/plain": [
       "1"
      ]
     },
     "execution_count": 49,
     "metadata": {},
     "output_type": "execute_result"
    }
   ],
   "source": [
    "np.argmax(image_labels[0].numpy())"
   ]
  },
  {
   "cell_type": "code",
   "execution_count": 50,
   "id": "76f7ef2c",
   "metadata": {},
   "outputs": [
    {
     "data": {
      "text/plain": [
       "array([0., 1., 0.], dtype=float32)"
      ]
     },
     "execution_count": 50,
     "metadata": {},
     "output_type": "execute_result"
    }
   ],
   "source": [
    "image_labels[0].numpy()"
   ]
  },
  {
   "cell_type": "code",
   "execution_count": 56,
   "id": "e7c4d10a",
   "metadata": {},
   "outputs": [
    {
     "data": {
      "text/plain": [
       "array([[3.9274848e-01, 1.2382616e-01, 4.8342538e-01],\n",
       "       [3.4975195e-01, 1.4268687e-01, 5.0756121e-01],\n",
       "       [3.2798842e-01, 1.5768687e-01, 5.1432472e-01],\n",
       "       [2.5045907e-01, 3.1019285e-01, 4.3934807e-01],\n",
       "       [3.3678752e-01, 1.4838150e-01, 5.1483101e-01],\n",
       "       [1.3847537e-04, 9.9979597e-01, 6.5593478e-05],\n",
       "       [6.5354223e-04, 9.9793148e-01, 1.4150008e-03],\n",
       "       [3.7527797e-01, 1.3355368e-01, 4.9116838e-01],\n",
       "       [3.8980567e-01, 1.3624243e-01, 4.7395194e-01],\n",
       "       [1.7407174e-01, 5.0001121e-01, 3.2591707e-01],\n",
       "       [2.9977024e-01, 1.4570840e-01, 5.5452138e-01],\n",
       "       [1.3057007e-04, 9.9978274e-01, 8.6630818e-05],\n",
       "       [1.1750979e-04, 9.9979156e-01, 9.0934169e-05],\n",
       "       [3.3018261e-01, 1.5792491e-01, 5.1189244e-01],\n",
       "       [3.2535711e-01, 1.5679060e-01, 5.1785225e-01],\n",
       "       [3.6449796e-01, 1.4104915e-01, 4.9445289e-01],\n",
       "       [2.6806462e-01, 3.0184993e-01, 4.3008542e-01],\n",
       "       [2.8387767e-01, 2.3910663e-01, 4.7701567e-01],\n",
       "       [4.1143936e-01, 1.1977536e-01, 4.6878523e-01],\n",
       "       [3.3833086e-01, 1.5545642e-01, 5.0621265e-01],\n",
       "       [3.3988875e-01, 1.5362240e-01, 5.0648880e-01],\n",
       "       [3.5574934e-01, 1.4390689e-01, 5.0034374e-01]], dtype=float32)"
      ]
     },
     "execution_count": 56,
     "metadata": {},
     "output_type": "execute_result"
    }
   ],
   "source": [
    "CNN_shading.predict(images/255)"
   ]
  },
  {
   "cell_type": "code",
   "execution_count": 64,
   "id": "32d3867c",
   "metadata": {},
   "outputs": [],
   "source": [
    "# Checking some predictions. Would be nice to have word labels mapped to 0,1,2 :)"
   ]
  },
  {
   "cell_type": "code",
   "execution_count": 62,
   "id": "bf468403",
   "metadata": {},
   "outputs": [
    {
     "data": {
      "text/plain": [
       "array([2, 2, 0, 0, 0, 2, 1, 0, 2, 1, 0, 1, 1, 2, 2, 0, 2, 2, 0, 2, 0, 1])"
      ]
     },
     "execution_count": 62,
     "metadata": {},
     "output_type": "execute_result"
    }
   ],
   "source": [
    "np.argmax(CNN_shapes.predict(images), axis=1)"
   ]
  },
  {
   "cell_type": "code",
   "execution_count": 63,
   "id": "77899e52",
   "metadata": {},
   "outputs": [
    {
     "data": {
      "text/plain": [
       "array([2, 1, 0, 2, 1, 1, 2, 1, 2, 1, 1, 1, 1, 0, 0, 2, 0, 1, 1, 0, 0, 0])"
      ]
     },
     "execution_count": 63,
     "metadata": {},
     "output_type": "execute_result"
    }
   ],
   "source": [
    "np.argmax(CNN_number.predict(images), axis=1)"
   ]
  },
  {
   "cell_type": "code",
   "execution_count": 58,
   "id": "90c5856f",
   "metadata": {},
   "outputs": [
    {
     "data": {
      "text/plain": [
       "array([1, 2, 1, 0, 1, 1, 2, 0, 1, 0, 1, 2, 1, 0, 2, 0, 0, 1, 2, 1, 2, 1])"
      ]
     },
     "execution_count": 58,
     "metadata": {},
     "output_type": "execute_result"
    }
   ],
   "source": [
    "np.argmax(CNN_color.predict(images), axis=1)"
   ]
  },
  {
   "cell_type": "code",
   "execution_count": null,
   "id": "d15b787a",
   "metadata": {},
   "outputs": [],
   "source": []
  },
  {
   "cell_type": "code",
   "execution_count": null,
   "id": "cb719481",
   "metadata": {},
   "outputs": [],
   "source": []
  },
  {
   "cell_type": "code",
   "execution_count": null,
   "id": "2b8382a9",
   "metadata": {},
   "outputs": [],
   "source": []
  },
  {
   "cell_type": "code",
   "execution_count": 13,
   "id": "0f73248f",
   "metadata": {},
   "outputs": [
    {
     "name": "stdout",
     "output_type": "stream",
     "text": [
      "Model: \"sequential_6\"\n",
      "_________________________________________________________________\n",
      "Layer (type)                 Output Shape              Param #   \n",
      "=================================================================\n",
      "conv2d_18 (Conv2D)           (None, 256, 256, 10)      280       \n",
      "_________________________________________________________________\n",
      "max_pooling2d_12 (MaxPooling (None, 128, 128, 10)      0         \n",
      "_________________________________________________________________\n",
      "conv2d_19 (Conv2D)           (None, 128, 128, 20)      1820      \n",
      "_________________________________________________________________\n",
      "max_pooling2d_13 (MaxPooling (None, 64, 64, 20)        0         \n",
      "_________________________________________________________________\n",
      "conv2d_20 (Conv2D)           (None, 64, 64, 30)        5430      \n",
      "_________________________________________________________________\n",
      "flatten_3 (Flatten)          (None, 122880)            0         \n",
      "_________________________________________________________________\n",
      "dense_18 (Dense)             (None, 256)               31457536  \n",
      "_________________________________________________________________\n",
      "dropout_12 (Dropout)         (None, 256)               0         \n",
      "_________________________________________________________________\n",
      "dense_19 (Dense)             (None, 128)               32896     \n",
      "_________________________________________________________________\n",
      "dropout_13 (Dropout)         (None, 128)               0         \n",
      "_________________________________________________________________\n",
      "dense_20 (Dense)             (None, 3)                 387       \n",
      "=================================================================\n",
      "Total params: 31,498,349\n",
      "Trainable params: 31,498,349\n",
      "Non-trainable params: 0\n",
      "_________________________________________________________________\n",
      "Epoch 1/3\n",
      "411/411 [==============================] - 204s 495ms/step - loss: 20.2017 - accuracy: 0.8454\n",
      "Epoch 2/3\n",
      "411/411 [==============================] - 200s 488ms/step - loss: 0.1484 - accuracy: 0.9354\n",
      "Epoch 3/3\n",
      "411/411 [==============================] - 198s 482ms/step - loss: 0.2071 - accuracy: 0.9148\n"
     ]
    },
    {
     "data": {
      "text/plain": [
       "<keras.callbacks.History at 0x7fd95147ed00>"
      ]
     },
     "execution_count": 13,
     "metadata": {},
     "output_type": "execute_result"
    }
   ],
   "source": [
    "CNN_shading = Sequential()\n",
    "\n",
    "CNN_shading.add(InputLayer(input_shape= (256,256,3)))\n",
    "\n",
    "\n",
    "CNN_shading.add(Conv2D(filters=10, kernel_size=3, activation='relu', padding='same'))\n",
    "CNN_shading.add(MaxPooling2D())\n",
    "\n",
    "\n",
    "CNN_shading.add(Conv2D(filters=20, kernel_size=3, activation='relu', padding='same'))\n",
    "CNN_shading.add(MaxPooling2D())\n",
    "\n",
    "\n",
    "CNN_shading.add(Conv2D(filters=30, kernel_size=3, activation='relu', padding='same'))\n",
    "\n",
    "#CNN_shading.add(GlobalAveragePooling2D())\n",
    "\n",
    "CNN_shading.add(Flatten())\n",
    "CNN_shading.add(Dense(256, activation='relu'))\n",
    "CNN_shading.add(Dropout(.20))\n",
    "CNN_shading.add(Dense(128, activation='relu'))\n",
    "CNN_shading.add(Dropout(.10))\n",
    "CNN_shading.add(Dense(3, activation='softmax'))  \n",
    "\n",
    "CNN_shading.compile(\n",
    "    loss='categorical_crossentropy',\n",
    "    optimizer='adam',\n",
    "    metrics=['accuracy'],\n",
    ")\n",
    "CNN_shading.summary()\n",
    "CNN_shading.fit(training_generator, epochs = 3)"
   ]
  },
  {
   "cell_type": "code",
   "execution_count": 16,
   "id": "5b6f2f1d",
   "metadata": {},
   "outputs": [
    {
     "name": "stdout",
     "output_type": "stream",
     "text": [
      "Found 12 files belonging to 3 classes.\n"
     ]
    }
   ],
   "source": [
    "testing_generator = tf.keras.preprocessing.image_dataset_from_directory('A_Set_Data/test_set_shade',\n",
    "    labels=\"inferred\",\n",
    "    label_mode=\"categorical\",\n",
    "    class_names=None,\n",
    "    color_mode=\"rgb\",\n",
    "    batch_size=1,\n",
    "    image_size=(256, 256),\n",
    "    shuffle=True,\n",
    "                                                                         \n",
    ")"
   ]
  },
  {
   "cell_type": "code",
   "execution_count": 17,
   "id": "fadfdc59",
   "metadata": {
    "scrolled": true
   },
   "outputs": [
    {
     "name": "stdout",
     "output_type": "stream",
     "text": [
      "12/12 [==============================] - 0s 16ms/step - loss: 7.7017e-04 - accuracy: 1.0000\n"
     ]
    },
    {
     "data": {
      "text/plain": [
       "[0.0007701722788624465, 1.0]"
      ]
     },
     "execution_count": 17,
     "metadata": {},
     "output_type": "execute_result"
    }
   ],
   "source": [
    "CNN_shading.evaluate(testing_generator) #Another 100% woot ;)"
   ]
  },
  {
   "cell_type": "code",
   "execution_count": null,
   "id": "653f6476",
   "metadata": {},
   "outputs": [],
   "source": []
  },
  {
   "cell_type": "code",
   "execution_count": 66,
   "id": "ee77eb02",
   "metadata": {},
   "outputs": [],
   "source": [
    "import numpy as np\n",
    "\n",
    "image_arrays = []\n",
    "image_labels = []\n",
    "predictions = []\n",
    "\n",
    "for images, labels in training_generator:\n",
    "    CNN_shading.predict(images)\n",
    "\n",
    "    image_arrays.append(images)\n",
    "    image_labels.extend(labels)\n",
    "    predictions.extend(np.argmax(CNN_shading.predict(images), axis=1))\n",
    "\n",
    "results_list = [np.argmax(x.numpy()) for x in image_labels]\n",
    "\n",
    "\n",
    "all_images = np.concatenate(image_arrays)\n",
    "    \n",
    "\n"
   ]
  },
  {
   "cell_type": "code",
   "execution_count": null,
   "id": "038996cc",
   "metadata": {},
   "outputs": [],
   "source": []
  },
  {
   "cell_type": "code",
   "execution_count": null,
   "id": "a4546738",
   "metadata": {},
   "outputs": [],
   "source": []
  },
  {
   "cell_type": "code",
   "execution_count": null,
   "id": "660f6f82",
   "metadata": {},
   "outputs": [],
   "source": []
  },
  {
   "cell_type": "code",
   "execution_count": null,
   "id": "8d0d8fca",
   "metadata": {},
   "outputs": [],
   "source": []
  },
  {
   "cell_type": "code",
   "execution_count": null,
   "id": "4d69ada4",
   "metadata": {},
   "outputs": [],
   "source": []
  },
  {
   "cell_type": "code",
   "execution_count": null,
   "id": "7c8badee",
   "metadata": {},
   "outputs": [],
   "source": []
  },
  {
   "cell_type": "code",
   "execution_count": null,
   "id": "8e2e9f6c",
   "metadata": {},
   "outputs": [],
   "source": []
  },
  {
   "cell_type": "code",
   "execution_count": null,
   "id": "9bf37cad",
   "metadata": {},
   "outputs": [],
   "source": [
    "from sklearn.metrics import confusion_matrix, classification_report\n",
    "import seaborn as sns"
   ]
  },
  {
   "cell_type": "code",
   "execution_count": null,
   "id": "a2f1ff43",
   "metadata": {},
   "outputs": [],
   "source": [
    "#Gave up on labelling the classes. (0,1,2) isn't that hard to remember\n",
    "\n",
    "y_pred = CNN_shading.predict(testing_generator)\n",
    "\n",
    "y_pred_classes = [np.argmax(object) for object in y_pred]\n",
    "\n",
    "#names = {'0': 'emply','1': 'filled','2': 'shaded'}\n",
    "\n",
    "names = {0: 'emply', 1: 'filled', 2: 'shaded'}\n",
    "\n",
    "mySeries = pd.Series(y_pred_classes)\n",
    "\n",
    "mySeries.map(names)\n",
    "\n",
    "\n",
    "    "
   ]
  },
  {
   "cell_type": "code",
   "execution_count": null,
   "id": "123804ad",
   "metadata": {},
   "outputs": [],
   "source": []
  },
  {
   "cell_type": "code",
   "execution_count": null,
   "id": "55019779",
   "metadata": {},
   "outputs": [],
   "source": []
  }
 ],
 "metadata": {
  "kernelspec": {
   "display_name": "Python 3",
   "language": "python",
   "name": "python3"
  },
  "language_info": {
   "codemirror_mode": {
    "name": "ipython",
    "version": 3
   },
   "file_extension": ".py",
   "mimetype": "text/x-python",
   "name": "python",
   "nbconvert_exporter": "python",
   "pygments_lexer": "ipython3",
   "version": "3.8.8"
  }
 },
 "nbformat": 4,
 "nbformat_minor": 5
}
