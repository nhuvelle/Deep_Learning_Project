{
 "cells": [
  {
   "cell_type": "markdown",
   "id": "cca87994",
   "metadata": {},
   "source": [
    "# Using deep learning to classify playing cards in the SET card game\n",
    "\n",
    "By Nathan Huvelle"
   ]
  },
  {
   "cell_type": "markdown",
   "id": "996601ce",
   "metadata": {},
   "source": [
    "## Abstract\n",
    "\n",
    "   The goal of this project was to use deep learning techniques to train a model to identify individual cards from the SET card deck. The SET deck contains 81 unique cards that have colorful objects on them, but each card can be uniquely described by 4 attributes: shape of object,  number of objects, shape of objects and shading inside the objects.\n",
    "   After iterating through deveral different model techniques, I eventually decided to create four Convolutional Neural Networks, with each one focusing on one of the four card attributes mentioned above.\n",
    "    "
   ]
  },
  {
   "cell_type": "markdown",
   "id": "b83fc2fd",
   "metadata": {},
   "source": [
    "## Design\n",
    "In order to accomplish this image classification task, I constructed four separate Convolutional Neural Networks, each focusing on classifying cards into one of three possible output classes. I used the Sequential API to set up the models and experimented thoroughly with adding and subtracting layers, and tuning hyperparameters. "
   ]
  },
  {
   "cell_type": "markdown",
   "id": "e323b143",
   "metadata": {},
   "source": [
    "## Data\n",
    "The data set was pulled mostly from a similar project by Tom White [link to Github page]( https://github.com/tomwhite/set-game.git) that contained roughly 13,000 images of SET cards as well as 81 photos taken by me. The pictures varied in their lighting, blurriness, contrast and background. \n"
   ]
  },
  {
   "cell_type": "markdown",
   "id": "ea50c995",
   "metadata": {},
   "source": [
    "## Algorithms\n",
    "The main algorithms used were Convolutional Nueral Networks. The first model attempted to classify each card as 1 of 81 possible cards. This model performed rather poorly. To imporve performance I constructed 4 separate CNNs, with each one focusing on classifying the cards into one of three classes for each of the four attributes. The results were unbelievable. Three out of four models attained at least 98% accuracy on training data and all four got 100% on testing data, although there are caveats here that I elaborated on during a live presentation in front of my Metis Bootcamp cohort. "
   ]
  },
  {
   "cell_type": "markdown",
   "id": "260f8e9d",
   "metadata": {},
   "source": [
    "## Tools\n",
    "The Data Science tools used for this project include but are not limited to: Pandas, numpy, sci-kit learn, matplotlib, tensorflow, and keras. \n"
   ]
  },
  {
   "cell_type": "markdown",
   "id": "f89395af",
   "metadata": {},
   "source": [
    "## Communication\n",
    "The results were verbally communicated during a five minute presentation in front of Metis Bootcamp students and instructors. Some of the key results are also posted in the presentation slide deck that can be found in this repo. "
   ]
  },
  {
   "cell_type": "code",
   "execution_count": null,
   "id": "4413186a",
   "metadata": {},
   "outputs": [],
   "source": []
  }
 ],
 "metadata": {
  "kernelspec": {
   "display_name": "Python 3",
   "language": "python",
   "name": "python3"
  },
  "language_info": {
   "codemirror_mode": {
    "name": "ipython",
    "version": 3
   },
   "file_extension": ".py",
   "mimetype": "text/x-python",
   "name": "python",
   "nbconvert_exporter": "python",
   "pygments_lexer": "ipython3",
   "version": "3.8.8"
  }
 },
 "nbformat": 4,
 "nbformat_minor": 5
}
